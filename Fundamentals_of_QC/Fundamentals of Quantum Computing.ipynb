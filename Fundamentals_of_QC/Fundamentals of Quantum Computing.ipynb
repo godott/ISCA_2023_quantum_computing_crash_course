{
 "cells": [
  {
   "cell_type": "markdown",
   "id": "82758a11",
   "metadata": {},
   "source": [
    "# A Simple Quantum Circuit Simulator\n",
    "\n",
    "In this section, we will write a quantum circuit simulator from scratch. During the building of this simulator, you will get familiar with many of the topics covered in the morning:\n",
    "\n",
    "- Quantum states\n",
    "- Unitary gates\n",
    "- Entanglement\n",
    "- Measurement"
   ]
  },
  {
   "cell_type": "markdown",
   "id": "1c8aae2c",
   "metadata": {},
   "source": [
    "## One qubit computational states and their superposition\n",
    "\n",
    "Recall the computational states of a qubit are the zero state $|0\\rangle$ and the one state $|1\\rangle$:\n",
    "\n",
    "Zero state:\n",
    "$$ |0\\rangle = \\begin{pmatrix} 1\\\\ 0\\end{pmatrix}$$\n",
    "\n",
    "One state:\n",
    "$$ |1\\rangle = \\begin{pmatrix} 0\\\\ 1\\end{pmatrix}$$\n",
    "\n",
    "Unlikely classical bits, quantum bits can be in superposition states of $|0\\rangle$ and $|1\\rangle$. The simplest examples are $|+\\rangle$ and $|-\\rangle$:\n",
    "\n",
    "The Plus state:\n",
    "$$ |+\\rangle = \\frac{1}{\\sqrt{2}}|0\\rangle +  \\frac{1}{\\sqrt{2}}|1\\rangle=\\frac{1}{\\sqrt{2}}\\begin{pmatrix} 1\\\\ 1\\end{pmatrix} $$\n",
    "\n",
    "The Minus state:\n",
    "$$ |-\\rangle = \\frac{1}{\\sqrt{2}}|0\\rangle -  \\frac{1}{\\sqrt{2}}|1\\rangle=\\frac{1}{\\sqrt{2}}\\begin{pmatrix} 1\\\\ -1\\end{pmatrix} $$"
   ]
  },
  {
   "cell_type": "code",
   "execution_count": 41,
   "id": "89e24191",
   "metadata": {},
   "outputs": [],
   "source": [
    "import numpy as np\n",
    "import scipy as sp\n",
    "import scipy.linalg\n",
    "from IPython.display import display, Latex\n",
    "\n",
    "ZeroState = np.array([[1.0], [0.0]])\n",
    "OneState = np.array([[0.0], [1.0]])\n",
    "\n",
    "normalized = lambda state_vector: state_vector / sp.linalg.norm(state_vector)\n",
    "PlusState = normalized(ZeroState + OneState)\n",
    "\n",
    "# print(\"The Zero state\\n\", ZeroState)\n",
    "# print(\"The One state\\n\", OneState)\n",
    "# print(\"The Plus state\\n\", PlusState)"
   ]
  },
  {
   "cell_type": "markdown",
   "id": "27c57035",
   "metadata": {},
   "source": [
    "# One qubit quantum gates\n",
    "\n",
    "To write a quantum circuit simulator, we will need quantum gates as well. \n",
    "\n",
    "Recall that the Hadamard gate is defined as:\n",
    "\n",
    "$$ H = \\frac{1}{\\sqrt{2}}\\begin{pmatrix}\n",
    "1 & 1\\\\\n",
    "1 & -1\n",
    "\\end{pmatrix} $$"
   ]
  },
  {
   "cell_type": "code",
   "execution_count": 42,
   "id": "fce4aa6c",
   "metadata": {},
   "outputs": [],
   "source": [
    "Hadamard = 1./np.sqrt(2) * np.array([[1, 1],\n",
    "                                     [1, -1]])\n",
    "# print(Hadamard)"
   ]
  },
  {
   "cell_type": "markdown",
   "id": "de2da99a",
   "metadata": {},
   "source": [
    "### Apply the Hadamard gate on the Zero state"
   ]
  },
  {
   "cell_type": "markdown",
   "id": "7f9f2de5",
   "metadata": {},
   "source": [
    "\n",
    "<img src=\"HadamardOnZero.png\" alt=\"Hadamard On Zero State\" style=\"width: 200px;\"/>"
   ]
  },
  {
   "cell_type": "code",
   "execution_count": 43,
   "id": "8f96506f",
   "metadata": {},
   "outputs": [],
   "source": [
    "HadamardOnZeroState = np.dot(Hadamard, ZeroState)\n",
    "# print(HadamardOnZeroState)"
   ]
  },
  {
   "cell_type": "markdown",
   "id": "838fa453",
   "metadata": {},
   "source": [
    "### What state is it?\n",
    "\n",
    "It's a ? state."
   ]
  },
  {
   "cell_type": "markdown",
   "id": "5b4b4c5b",
   "metadata": {},
   "source": [
    "# Going beyond one qubit --- Tensor Product of qubit states\n",
    "\n",
    "What if we have 2 qubits that are both in $|0\\rangle$? The 2 qubit states are composed by tensor product,\n",
    "\n",
    "$$ |0\\rangle \\otimes |0 \\rangle $$\n",
    "\n",
    "or in short,\n",
    "$$ |00 \\rangle $$"
   ]
  },
  {
   "cell_type": "code",
   "execution_count": 44,
   "id": "1ed95162",
   "metadata": {},
   "outputs": [],
   "source": [
    "ZeroZero = np.kron(ZeroState, ZeroState)\n",
    "OneOne = np.kron(OneState, OneState)\n",
    "PlusPlus = np.kron(PlusState, PlusState)\n",
    "\n",
    "# display(Latex(f\"$|00\\\\rangle$:\"))\n",
    "# print(ZeroZero)\n",
    "\n",
    "# display(Latex(f\"$|11\\\\rangle$:\"))\n",
    "# print(OneOne)\n",
    "\n",
    "# display(Latex(f\"$|++\\\\rangle$:\"))\n",
    "# print(PlusPlus)"
   ]
  },
  {
   "cell_type": "markdown",
   "id": "0902d920",
   "metadata": {},
   "source": [
    "## Bell state\n",
    "\n",
    "The famous Bell state is defined as,\n",
    "$$ |\\phi \\rangle = \\frac{1}{\\sqrt{2}}(|00\\rangle + |11 \\rangle)$$\n",
    "\n",
    "In the 60s, John Bell used the Bell state to refute Einstein's \"hidden variable\" theory in the EPR paradox paper."
   ]
  },
  {
   "cell_type": "code",
   "execution_count": 45,
   "id": "211aee7f",
   "metadata": {},
   "outputs": [],
   "source": [
    "BellState = normalized(ZeroZero + OneOne)\n",
    "\n",
    "# print(\"Bell state\", BellState)"
   ]
  },
  {
   "cell_type": "markdown",
   "id": "d9f7e1f4",
   "metadata": {},
   "source": [
    "## Greenberg-Horne-Zeilinger (GHZ) state\n",
    "\n",
    "Later, three physicists further confirmed the \"quantumness\" of the quantum theory using the GHZ state,\n",
    "$$ |\\phi \\rangle = \\frac{1}{\\sqrt{2}}(|000\\rangle + |111 \\rangle)$$"
   ]
  },
  {
   "cell_type": "code",
   "execution_count": 46,
   "id": "cf8d46b7",
   "metadata": {},
   "outputs": [],
   "source": [
    "ZeroZeroZero = np.kron(ZeroZero, ZeroState)\n",
    "OneOneOne = np.kron(OneOne, OneState)\n",
    "\n",
    "GHZState = normalized(ZeroZeroZero + OneOneOne)\n",
    "\n",
    "# print(\"GHZ state\", GHZState)"
   ]
  },
  {
   "cell_type": "markdown",
   "id": "06a9b1dc",
   "metadata": {},
   "source": [
    "# How to test entanglement?\n",
    "\n",
    "Entanglement is tightly related to a common matrix technique in computer vision --- Singular Value Decomposition (SVD).\n",
    "\n",
    "Specially, Entanglement is measured by the number of non-zero singular values of a quantum state."
   ]
  },
  {
   "cell_type": "code",
   "execution_count": 47,
   "id": "a1ede4df",
   "metadata": {},
   "outputs": [],
   "source": [
    "GHZState_bipartite0_12 = GHZState.reshape(4, 2)\n",
    "\n",
    "# print(GHZState_bipartite0_12)\n",
    "\n",
    "u_ghz, s_ghz, v_ghz = scipy.linalg.svd(GHZState_bipartite0_12)\n",
    "\n",
    "# print(s_ghz)"
   ]
  },
  {
   "cell_type": "markdown",
   "id": "438f3aed",
   "metadata": {},
   "source": [
    "The number of non-zero entries in the singular value vector is called Schmidt rank. For a bipartite state with > 1 Schmidt rank, it's entangled!"
   ]
  },
  {
   "cell_type": "markdown",
   "id": "dbeb62c0",
   "metadata": {},
   "source": [
    "## Applying a 1-qubit gate to a multi-qubit state\n",
    "\n",
    "What if I have a 3 qubit state, and I want to apply a Hadarmard gate on the 1st qubit?\n",
    "\n",
    "\n",
    "<img src=\"HadamardOnFirst.png\" alt=\"Hadamard On First of a 3-qubit State\" style=\"width: 200px;\"/>"
   ]
  },
  {
   "cell_type": "code",
   "execution_count": 50,
   "id": "5887913a",
   "metadata": {},
   "outputs": [],
   "source": [
    "# Define a helper function\n",
    "\n",
    "def ChainTensorProduct(*args):\n",
    "  product = np.array([[1.0]])\n",
    "  for operator in args:\n",
    "    product = np.kron(product, operator)\n",
    "  return product\n",
    "\n",
    "Identity = np.eye(2)\n",
    "\n",
    "Hadamard0 = ChainTensorProduct(Hadamard, Identity, Identity)\n",
    "\n",
    "ZeroZeroZero = ChainTensorProduct(ZeroState, ZeroState, ZeroState)\n",
    "\n",
    "end_state = np.dot(Hadamard0, ZeroZeroZero)\n",
    "\n",
    "# print(end_state)"
   ]
  },
  {
   "cell_type": "markdown",
   "id": "1b56f210",
   "metadata": {},
   "source": [
    "### Test the entanglement of the state above"
   ]
  },
  {
   "cell_type": "code",
   "execution_count": 51,
   "id": "e3bdda22",
   "metadata": {},
   "outputs": [
    {
     "name": "stdout",
     "output_type": "stream",
     "text": [
      "[1. 0.]\n"
     ]
    }
   ],
   "source": [
    "end_state_bipartite0_12 = end_state.reshape(2, 4)\n",
    "\n",
    "u_es, s_es, v_es = scipy.linalg.svd(end_state_bipartite0_12)\n",
    "\n",
    "# print(s_es)"
   ]
  },
  {
   "cell_type": "markdown",
   "id": "158841c8",
   "metadata": {},
   "source": [
    "## Applying a 2-qubit gate to a multi-qubit state\n",
    "\n",
    "For our simulator, we need to be able to apply 2-qubit gates and it is slightly more tricky.\n",
    "\n",
    "Recall the CNOT gate,\n",
    "\n",
    "$$ CNOT = \\begin{pmatrix} 1 & 0 & 0 & 0 \\\\ 0 & 1 & 0 & 0 \\\\ 0 & 0 & 0 & 1 \\\\ 0 & 0 & 1 & 0 \\end{pmatrix}$$\n",
    "\n",
    "It's clear how to apply CNOT on the first two qubits, i.e.,"
   ]
  },
  {
   "cell_type": "code",
   "execution_count": 10,
   "id": "885223cf",
   "metadata": {},
   "outputs": [
    {
     "name": "stdout",
     "output_type": "stream",
     "text": [
      "[[1. 0. 0. 0. 0. 0. 0. 0.]\n",
      " [0. 1. 0. 0. 0. 0. 0. 0.]\n",
      " [0. 0. 1. 0. 0. 0. 0. 0.]\n",
      " [0. 0. 0. 1. 0. 0. 0. 0.]\n",
      " [0. 0. 0. 0. 0. 0. 1. 0.]\n",
      " [0. 0. 0. 0. 0. 0. 0. 1.]\n",
      " [0. 0. 0. 0. 1. 0. 0. 0.]\n",
      " [0. 0. 0. 0. 0. 1. 0. 0.]]\n",
      "[[1. 0. 0. 0. 0. 0. 0. 0.]\n",
      " [0. 1. 0. 0. 0. 0. 0. 0.]\n",
      " [0. 0. 0. 1. 0. 0. 0. 0.]\n",
      " [0. 0. 1. 0. 0. 0. 0. 0.]\n",
      " [0. 0. 0. 0. 1. 0. 0. 0.]\n",
      " [0. 0. 0. 0. 0. 1. 0. 0.]\n",
      " [0. 0. 0. 0. 0. 0. 0. 1.]\n",
      " [0. 0. 0. 0. 0. 0. 1. 0.]]\n"
     ]
    }
   ],
   "source": [
    "CNOT = np.array([[1, 0, 0, 0], [0, 1, 0, 0], [0, 0, 0, 1], [0, 0, 1, 0]])\n",
    "CNOT01 = ChainTensorProduct(CNOT, Identity)\n",
    "CNOT12 = ChainTensorProduct(Identity, CNOT)"
   ]
  },
  {
   "cell_type": "markdown",
   "id": "a2ec7c2d",
   "metadata": {},
   "source": [
    "### What about applying a CNOT to the 1st and the 3rd qubit?\n",
    "\n",
    "In principle, we can permute the 2nd and the 3rd qubit first, but here for simplicity, we use a linear algebra trick.\n",
    "\n",
    "Notice, \n",
    "$$ CNOT = Identity \\otimes P0 + X\\otimes P1 $$\n",
    "\n",
    "where,\n",
    "\n",
    "$$X = \\begin{pmatrix} 0 & 1 \\\\ 1 & 0 \\end{pmatrix}$$ is the bit flip gate,\n",
    "$$P0 = \\begin{pmatrix} 1 & 0 \\\\ 0 & 0 \\end{pmatrix}$$ is the projection to 0,\n",
    "$$P1 = \\begin{pmatrix} 0 & 0 \\\\ 0 & 1 \\end{pmatrix}$$ is the projection to 1.\n",
    "\n",
    "Then for a CNOT on the 1st and 3rd qubit can be written as,"
   ]
  },
  {
   "cell_type": "code",
   "execution_count": 52,
   "id": "66ec3bd3",
   "metadata": {},
   "outputs": [],
   "source": [
    "P0 = np.dot(ZeroState, ZeroState.T)\n",
    "P1 = np.dot(OneState, OneState.T)\n",
    "X = np.array([[0,1],\n",
    "              [1,0]])\n",
    "CNOT02 = ChainTensorProduct(P0, Identity, Identity) + ChainTensorProduct(P1, Identity, X)"
   ]
  },
  {
   "cell_type": "markdown",
   "id": "57510f4d",
   "metadata": {},
   "source": [
    "### Prepare a GHZ state\n",
    "\n",
    "<img src=\"ghz_circuit.png\" alt=\"circuit to prepare ghz\" style=\"width: 300px;\"/>"
   ]
  },
  {
   "cell_type": "code",
   "execution_count": 53,
   "id": "4c1ef1f0",
   "metadata": {},
   "outputs": [],
   "source": [
    "PreparedGHZ = np.dot(CNOT12, np.dot(CNOT01, np.dot(Hadamard0, ZeroZeroZero)))\n",
    "\n",
    "# print(np.array_equal(PreparedGHZ, GHZState))"
   ]
  },
  {
   "cell_type": "markdown",
   "id": "5df7800d",
   "metadata": {},
   "source": [
    "# Last piece --- measurement\n",
    "\n",
    "\n",
    "Measurements are projections. For example, to measure the first qubit to be 0, it's a projection to 0 on the first qubit,\n",
    "\n",
    "$$ Meas_0 |\\psi\\rangle = P_0\\otimes Identity ... |\\psi\\rangle$$\n",
    "\n",
    "and the probability of getting 0 is,\n",
    "\n",
    "$$ \\langle \\psi | Meas_0 ^\\dagger Meas_0 |\\psi\\rangle $$"
   ]
  },
  {
   "cell_type": "code",
   "execution_count": 40,
   "id": "0e7d1759",
   "metadata": {},
   "outputs": [
    {
     "name": "stdout",
     "output_type": "stream",
     "text": [
      "Measured 1 on qubit 0.\n",
      "State after measurement [[0.]\n",
      " [0.]\n",
      " [0.]\n",
      " [1.]]\n"
     ]
    }
   ],
   "source": [
    "import numpy.random\n",
    "\n",
    "BellState = normalized(ZeroZero + OneOne)\n",
    "dm_BellState = np.dot(BellState, BellState.T)\n",
    "\n",
    "#Probability of measuring 0 on qubit 0\n",
    "Prob0 = np.dot(np.dot(ChainTensorProduct(P0, Identity), BellState).conj().T, np.dot(ChainTensorProduct(P0, Identity), BellState))\n",
    "\n",
    "#Simulate measurement of qubit 0\n",
    "if (np.random.rand() < Prob0):\n",
    "    #Measured 0 on Qubit 0\n",
    "    result = 0\n",
    "    resulting_state = normalized(np.dot(ChainTensorProduct(P0, Identity), BellState))\n",
    "else:\n",
    "    #Measured 1 on Qubit 1\n",
    "    result = 1\n",
    "    resulting_state = normalized(np.dot(ChainTensorProduct(P1, Identity), BellState))\n",
    "\n",
    "print(f\"Measured {result} on qubit 0.\")\n",
    "print(\"State after measurement\", resulting_state)"
   ]
  }
 ],
 "metadata": {
  "kernelspec": {
   "display_name": "braket_staging",
   "language": "python",
   "name": "braket_staging"
  },
  "language_info": {
   "codemirror_mode": {
    "name": "ipython",
    "version": 3
   },
   "file_extension": ".py",
   "mimetype": "text/x-python",
   "name": "python",
   "nbconvert_exporter": "python",
   "pygments_lexer": "ipython3",
   "version": "3.11.4"
  }
 },
 "nbformat": 4,
 "nbformat_minor": 5
}
