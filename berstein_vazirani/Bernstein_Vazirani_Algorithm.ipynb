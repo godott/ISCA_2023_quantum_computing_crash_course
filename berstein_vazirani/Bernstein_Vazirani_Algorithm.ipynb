{
 "cells": [
  {
   "cell_type": "markdown",
   "metadata": {},
   "source": [
    "# Bernstein–Vazirani Algorithm\n",
    "\n",
    "This notebook runs the Bernstein–Vazirani algorithm on a local simulator and a QPU on Amazon Braket. The Bernstein-Vazirani algorithm can find a hidden binary string with certainty after only one call to the quantum circuit. The hidden string is releaved by querying the oracle that is a superposition of all possible binary strings.\n",
    "\n",
    "The Bernstein–Vazirani problem is to find a hidden binary string given a black-box function that is promised to be the dot product of the input bitstring with the hidden string. It is an extension of the Deutsch-Jozsa algorithm where the function is restricted to being constant or balanced.\n",
    "\n",
    "Typically, we would need to query the classical function $n$ times where $n$ is the length of the string. However, if the function is encoded into a quantum circuit, we need to only query the function once to reveal the hidden string. See Ref. [1] for full details."
   ]
  },
  {
   "cell_type": "markdown",
   "metadata": {},
   "source": [
    "# References \n",
    "[1] [Ethan Bernstein and Umesh Vazirani (1997) \"Quantum Complexity Theory\" SIAM Journal on Computing, Vol. 26, No. 5: 1411-1473, doi:10.1137/S0097539796300921.](https://epubs.siam.org/doi/10.1137/S0097539796300921)\n"
   ]
  },
  {
   "cell_type": "markdown",
   "metadata": {},
   "source": [
    "# Bernstein-Vazirani Circuit Recap\n",
    "\n",
    "<img src=\"bv_circuit.png\" alt=\"bv\" style=\"width: 400px;\"/>"
   ]
  },
  {
   "cell_type": "code",
   "execution_count": 50,
   "metadata": {
    "tags": []
   },
   "outputs": [],
   "source": [
    "from braket.circuits import Circuit\n",
    "        \n",
    "def bv(string):\n",
    "    \n",
    "    num_qubits = len(string) + 1\n",
    "    \n",
    "    # Turn the ancilla to |1>\n",
    "    bv_circ = Circuit().x(num_qubits - 1)    \n",
    "    \n",
    "    # Initial Hadamard layer\n",
    "    for i in range(0, num_qubits):\n",
    "        bv_circ.h(i)\n",
    "    \n",
    "    # Oracle\n",
    "    for i in range(num_qubits - 1):\n",
    "        if string[i] == '1':\n",
    "            bv_circ.cnot(i, num_qubits - 1)\n",
    "        elif string[i] != '0':\n",
    "            raise ValueError(\"Not a valid bit string\")\n",
    "    \n",
    "    # Final Hadamard layer\n",
    "    for i in range(0, num_qubits):\n",
    "        bv_circ.h(i)\n",
    "    \n",
    "    bv_circ.amplitude(state=string_combinations)\n",
    "    \n",
    "    return bv_circ"
   ]
  },
  {
   "cell_type": "code",
   "execution_count": 51,
   "metadata": {
    "tags": []
   },
   "outputs": [
    {
     "name": "stdout",
     "output_type": "stream",
     "text": [
      "T  : |0|1|2|3|4|\n",
      "                \n",
      "q0 : -H---C-H---\n",
      "          |     \n",
      "q1 : -H-H-|-----\n",
      "          |     \n",
      "q2 : -H---|-C-H-\n",
      "          | |   \n",
      "q3 : -H-H-|-|---\n",
      "          | |   \n",
      "q4 : -X-H-X-X-H-\n",
      "\n",
      "T  : |0|1|2|3|4|\n",
      "\n",
      "Additional result types: Amplitude(00001,00011,00101,00111,01001,01011,01101,01111,10001,10011,10101,10111,11001,11011,11101,11111)\n"
     ]
    }
   ],
   "source": [
    "print(bv(\"1010\"))"
   ]
  },
  {
   "cell_type": "markdown",
   "metadata": {},
   "source": [
    "# Understand how Berstein-Vazirani encode the information in the phase"
   ]
  },
  {
   "cell_type": "code",
   "execution_count": 58,
   "metadata": {
    "tags": []
   },
   "outputs": [],
   "source": [
    "import itertools\n",
    "string_combinations = [''.join(i) + '1' for i in itertools.product('01', repeat=4)]"
   ]
  },
  {
   "cell_type": "code",
   "execution_count": 59,
   "metadata": {
    "tags": []
   },
   "outputs": [],
   "source": [
    "def bv_after_first_h_layer(string):\n",
    "    \n",
    "    num_qubits = len(string) + 1\n",
    "    bv_circ = Circuit().x(num_qubits - 1)    \n",
    "    for i in range(0, num_qubits):\n",
    "        bv_circ.h(i)\n",
    "        \n",
    "    bv_circ.amplitude(state=string_combinations)\n",
    "    \n",
    "    return bv_circ"
   ]
  },
  {
   "cell_type": "code",
   "execution_count": 60,
   "metadata": {
    "tags": []
   },
   "outputs": [],
   "source": [
    "def bv_after_oracle(string):\n",
    "    \n",
    "    num_qubits = len(string) + 1\n",
    "    bv_circ = Circuit().x(num_qubits - 1)    \n",
    "    for i in range(0, num_qubits):\n",
    "        bv_circ.h(i)\n",
    "        \n",
    "    for i in range(num_qubits - 1):\n",
    "        if string[i] == '1':\n",
    "            bv_circ.cnot(i, num_qubits - 1)\n",
    "        elif string[i] != '0':\n",
    "            raise ValueError(\"Not a valid bit string\")\n",
    "            \n",
    "    bv_circ.amplitude(state=string_combinations)\n",
    "    \n",
    "    return bv_circ"
   ]
  },
  {
   "cell_type": "code",
   "execution_count": 67,
   "metadata": {
    "tags": []
   },
   "outputs": [
    {
     "name": "stdout",
     "output_type": "stream",
     "text": [
      "{'00001': (-0.1767766952966368+0j), '00011': (-0.1767766952966368+0j), '00101': (-0.1767766952966368+0j), '00111': (-0.1767766952966368+0j), '01001': (-0.1767766952966368+0j), '01011': (-0.1767766952966368+0j), '01101': (-0.1767766952966368+0j), '01111': (-0.1767766952966368+0j), '10001': (0.1767766952966368+0j), '10011': (0.1767766952966368+0j), '10101': (0.1767766952966368+0j), '10111': (0.1767766952966368+0j), '11001': (0.1767766952966368+0j), '11011': (0.1767766952966368+0j), '11101': (0.1767766952966368+0j), '11111': (0.1767766952966368+0j)}\n"
     ]
    },
    {
     "name": "stderr",
     "output_type": "stream",
     "text": [
      "/home/ec2-user/anaconda3/envs/Braket/lib/python3.10/site-packages/matplotlib/transforms.py:762: ComplexWarning: Casting complex values to real discards the imaginary part\n",
      "  points = np.asarray(points, float)\n"
     ]
    },
    {
     "data": {
      "image/png": "[encoded data removed]",
      "text/plain": [
       "<Figure size 640x480 with 1 Axes>"
      ]
     },
     "metadata": {},
     "output_type": "display_data"
    }
   ],
   "source": [
    "from braket.devices import LocalSimulator\n",
    "from notebook_plotting import plot_bitstrings\n",
    "\n",
    "local_simulator = LocalSimulator()\n",
    "task = local_simulator.run(bv_after_oracle(\"1000\"), shots=0)\n",
    "result = task.result()\n",
    "print(result.values[0])\n",
    "plot_bitstrings(result.values[0], title=\"BV amplitude\")"
   ]
  },
  {
   "cell_type": "markdown",
   "metadata": {},
   "source": [
    "# Using the Amazon Braket Berstein-Vazirani library to run on a local simulator"
   ]
  },
  {
   "cell_type": "code",
   "execution_count": 28,
   "metadata": {
    "tags": []
   },
   "outputs": [],
   "source": [
    "from notebook_plotting import plot_bitstrings\n",
    "\n",
    "%matplotlib inline\n",
    "\n",
    "from braket.devices import LocalSimulator\n",
    "from braket.tracking import Tracker\n",
    "\n",
    "from braket.experimental.algorithms.bernstein_vazirani import (\n",
    "    bernstein_vazirani_circuit,\n",
    "    get_bernstein_vazirani_results,\n",
    "    run_bernstein_vazirani\n",
    ")\n",
    "\n",
    "tracker = Tracker().start() # to track Braket costs"
   ]
  },
  {
   "cell_type": "code",
   "execution_count": 29,
   "metadata": {
    "tags": []
   },
   "outputs": [
    {
     "name": "stdout",
     "output_type": "stream",
     "text": [
      "T  : |0|1| 2 |3|4|Result Types|\n",
      "                               \n",
      "q0 : -H---C---H---Probability--\n",
      "          |       |            \n",
      "q1 : -H-I-|-H-----Probability--\n",
      "          |       |            \n",
      "q2 : -H---|---C-H-Probability--\n",
      "          |   |   |            \n",
      "q3 : -H-I-|-H-|---Probability--\n",
      "          |   |                \n",
      "q4 : -H-Z-X---X----------------\n",
      "\n",
      "T  : |0|1| 2 |3|4|Result Types|\n"
     ]
    }
   ],
   "source": [
    "bv_circuit = bernstein_vazirani_circuit(\"1010\")\n",
    "print(bv_circuit)"
   ]
  },
  {
   "cell_type": "code",
   "execution_count": 30,
   "metadata": {
    "tags": []
   },
   "outputs": [
    {
     "name": "stdout",
     "output_type": "stream",
     "text": [
      "LocalQuantumTask('id':ffb115f5-5389-4041-93b5-7baef6f8c871)\n"
     ]
    }
   ],
   "source": [
    "local_simulator = LocalSimulator()\n",
    "task = run_bernstein_vazirani(bv_circuit, local_simulator, shots=1_000)\n",
    "print(task)"
   ]
  },
  {
   "cell_type": "code",
   "execution_count": 33,
   "metadata": {
    "tags": []
   },
   "outputs": [
    {
     "name": "stdout",
     "output_type": "stream",
     "text": [
      "<class 'dict'>\n"
     ]
    }
   ],
   "source": [
    "bv_results = get_bernstein_vazirani_results(task)"
   ]
  },
  {
   "cell_type": "code",
   "execution_count": 15,
   "metadata": {},
   "outputs": [
    {
     "data": {
      "image/png": "[encoded data removed]",
      "text/plain": [
       "<Figure size 640x480 with 1 Axes>"
      ]
     },
     "metadata": {},
     "output_type": "display_data"
    }
   ],
   "source": [
    "plot_bitstrings(bv_results, title=\"BV counts\")"
   ]
  },
  {
   "cell_type": "markdown",
   "metadata": {},
   "source": [
    "# Run on a noisy simulator\n",
    "\n",
    "Let's try a noisy simulator"
   ]
  },
  {
   "cell_type": "code",
   "execution_count": 16,
   "metadata": {},
   "outputs": [
    {
     "name": "stdout",
     "output_type": "stream",
     "text": [
      "T  : |     0      |     1      |     2      |            3             |Result Types|\n",
      "                                                                                     \n",
      "q0 : -H-DEPO(0.01)-I-DEPO(0.01)-H-DEPO(0.01)-BF(0.1)--------------------Probability--\n",
      "                                                                        |            \n",
      "q1 : -H-DEPO(0.01)-I-DEPO(0.01)-H-DEPO(0.01)-BF(0.1)--------------------Probability--\n",
      "                                                                        |            \n",
      "q2 : -H-DEPO(0.01)--------------C-DEPO(0.01)-H-------DEPO(0.01)-BF(0.1)-Probability--\n",
      "                                |                                                    \n",
      "q3 : -H-DEPO(0.01)-Z-DEPO(0.01)-X-DEPO(0.01)-BF(0.1)---------------------------------\n",
      "\n",
      "T  : |     0      |     1      |     2      |            3             |Result Types|\n"
     ]
    }
   ],
   "source": [
    "from braket.circuits.noises import BitFlip, Depolarizing\n",
    "\n",
    "noisy_bv_circuit = (\n",
    "    bernstein_vazirani_circuit(\"001\")\n",
    "    .apply_gate_noise(Depolarizing(0.01))\n",
    "    .apply_readout_noise(BitFlip(0.1))\n",
    ")\n",
    "print(noisy_bv_circuit)"
   ]
  },
  {
   "cell_type": "code",
   "execution_count": 17,
   "metadata": {},
   "outputs": [],
   "source": [
    "local_simulator = LocalSimulator(\"braket_dm\")\n",
    "\n",
    "task = run_bernstein_vazirani(noisy_bv_circuit, local_simulator, shots=1_000)\n",
    "\n",
    "noisy_bv_results = get_bernstein_vazirani_results(task)"
   ]
  },
  {
   "cell_type": "code",
   "execution_count": 18,
   "metadata": {},
   "outputs": [
    {
     "data": {
      "image/png": "[encoded data removed]",
      "text/plain": [
       "<Figure size 640x480 with 1 Axes>"
      ]
     },
     "metadata": {},
     "output_type": "display_data"
    }
   ],
   "source": [
    "plot_bitstrings(noisy_bv_results, title=\"Noisy BV counts\")"
   ]
  },
  {
   "cell_type": "code",
   "execution_count": 19,
   "metadata": {},
   "outputs": [
    {
     "name": "stdout",
     "output_type": "stream",
     "text": [
      "Task Summary\n",
      "{} \n",
      "\n",
      "Estimated cost to run this example: 0.00 USD\n"
     ]
    }
   ],
   "source": [
    "print(\"Task Summary\")\n",
    "print(f\"{tracker.quantum_tasks_statistics()} \\n\")\n",
    "print(f\"Estimated cost to run this example: {tracker.qpu_tasks_cost() + tracker.simulator_tasks_cost():.2f} USD\")"
   ]
  },
  {
   "cell_type": "markdown",
   "metadata": {},
   "source": [
    "Note: Charges shown are estimates based on your Amazon Braket simulator and quantum processing unit (QPU) task usage. Estimated charges shown may differ from your actual charges. Estimated charges do not factor in any discounts or credits, and you may experience additional charges based on your use of other services such as Amazon Elastic Compute Cloud (Amazon EC2)."
   ]
  }
 ],
 "metadata": {
  "kernelspec": {
   "display_name": "conda_braket",
   "language": "python",
   "name": "conda_braket"
  },
  "language_info": {
   "codemirror_mode": {
    "name": "ipython",
    "version": 3
   },
   "file_extension": ".py",
   "mimetype": "text/x-python",
   "name": "python",
   "nbconvert_exporter": "python",
   "pygments_lexer": "ipython3",
   "version": "3.10.11"
  },
  "vscode": {
   "interpreter": {
    "hash": "5904cb9a2089448a2e1aeb5d493d227c9de33e591d7c07e4016fb81e71061a5d"
   }
  }
 },
 "nbformat": 4,
 "nbformat_minor": 4
}
